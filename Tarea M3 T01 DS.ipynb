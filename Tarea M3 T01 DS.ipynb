{
 "cells": [
  {
   "cell_type": "markdown",
   "id": "4a9e1e9d",
   "metadata": {},
   "source": [
    "- Ejercicio 1\n",
    "Crea una función que dado un Array de una dimensión, te haga un resumen estadístico básico de los datos. Si detecta que el array tiene más de una dimensión, debe mostrar un mensaje de error."
   ]
  },
  {
   "cell_type": "code",
   "execution_count": 2,
   "id": "749de9a5",
   "metadata": {},
   "outputs": [
    {
     "name": "stdout",
     "output_type": "stream",
     "text": [
      "Error, no cumple con las normativas. Tiene más de 1 dimensión\n",
      "DescribeResult(nobs=5, minmax=(1, 80), mean=26.8, variance=999.7, skewness=1.1065925401919026, kurtosis=-0.31159109161176834)\n"
     ]
    }
   ],
   "source": [
    "from scipy import stats\n",
    "import numpy as np\n",
    "\n",
    "#Función de Estadísticas Descriptivas:\n",
    "def arraystat(array1D):\n",
    "    if array1D.ndim != 1:\n",
    "        print(\"Error, no cumple con las normativas. Tiene más de 1 dimensión\")\n",
    "    else:\n",
    "        print(stats.describe(array1D))\n",
    "\n",
    "#Probamos la función con array de 2 dimensiones:\n",
    "arr = np.array([[1, 2, 3, 4, 5],[6,7,8,9,10]])\n",
    "arraystat(arr)\n",
    "\n",
    "#Probamos la función con array de 1 dimension:\n",
    "arr1 = np.array([1, 30, 15, 80, 8])\n",
    "arraystat(arr1)"
   ]
  },
  {
   "cell_type": "markdown",
   "id": "701ec932",
   "metadata": {},
   "source": [
    "- Ejercicio 2\n",
    "Crea una función que genere un cuadrado NxN de números aleatorios entre el 0 y el 100."
   ]
  },
  {
   "cell_type": "code",
   "execution_count": 3,
   "id": "0ee9ba22",
   "metadata": {},
   "outputs": [
    {
     "data": {
      "text/plain": [
       "array([[98, 82, 57, 32, 84, 52,  2, 42],\n",
       "       [91, 34, 15, 40, 55, 64, 67, 82],\n",
       "       [51, 69, 75, 60, 29, 38, 43, 16],\n",
       "       [ 5, 45, 83, 21,  5, 89, 42, 57],\n",
       "       [64, 32, 16, 63, 29, 48,  4,  6],\n",
       "       [13, 55, 31, 16, 69, 46, 60, 20],\n",
       "       [51, 60, 95, 85, 90, 38, 24, 13],\n",
       "       [84, 84, 15, 73, 93, 87, 80, 58]])"
      ]
     },
     "execution_count": 3,
     "metadata": {},
     "output_type": "execute_result"
    }
   ],
   "source": [
    "from numpy import random\n",
    "import pandas as pd\n",
    "\n",
    "#Generamos una matriz de NxN , debido a que nos pide numeros aleatorios entre 0 y 100 colocamos como maximo 99 y minimo 1\n",
    "def NxN (i):\n",
    "    genmatriz=random.randint(low=1, high=99, size=(i, i))\n",
    "    return genmatriz\n",
    "\n",
    "NxN(8)"
   ]
  },
  {
   "cell_type": "markdown",
   "id": "923736d5",
   "metadata": {},
   "source": [
    "- Ejercicio 3\n",
    "Crea una función que dada una tabla de dos dimensiones (NxM), te calcule los totales por fila y los totales por columna."
   ]
  },
  {
   "cell_type": "code",
   "execution_count": 4,
   "id": "d116d274",
   "metadata": {},
   "outputs": [
    {
     "name": "stdout",
     "output_type": "stream",
     "text": [
      "Total por filass:  [103  67]\n",
      "Total por columnas:  [ 68 102]\n"
     ]
    }
   ],
   "source": [
    "def Tsum(i):\n",
    "        print(\"Total por filass: \", np.sum(i, axis = 1))\n",
    "        print(\"Total por columnas: \", np.sum(i, axis = 0))\n",
    "  \n",
    "Tsum(NxN(2))"
   ]
  },
  {
   "cell_type": "markdown",
   "id": "173005b9",
   "metadata": {},
   "source": [
    "- Ejercicio 4\n",
    "Implementa manualmente una función que calcule el coeficiente de correlación. Infórmate sobre sus usos e interpretación."
   ]
  },
  {
   "cell_type": "code",
   "execution_count": 5,
   "id": "e65dbb42",
   "metadata": {},
   "outputs": [
    {
     "name": "stdout",
     "output_type": "stream",
     "text": [
      "La correlación es: -0.37132106868072434\n",
      "La correlación con la función np.corrcoef  es:  -0.37132106868072423\n"
     ]
    }
   ],
   "source": [
    "x= np.array([18,10,28,237,209,22,7,422,93,812,999])\n",
    "y=np.array([320,102,222,354,487,611,432,46,10,300,10])\n",
    "\n",
    "def CoefCorrel(x,y):\n",
    "    N = len(x)\n",
    "    meanx=np.mean(x)\n",
    "    meany=np.mean(y)\n",
    "    desvx = np.std(x)\n",
    "    desvy = np.std(y)\n",
    "    covar = (sum(x * y)/ N) - (meanx * meany)   \n",
    "    \n",
    "    corr = covar/(desvx*desvy)\n",
    "    return corr\n",
    "\n",
    "\n",
    "print (\"La correlación es:\", CoefCorrel(x,y))\n",
    "    \n",
    "# Comprobamos la correlación con una función de numpy np.corrcoef \n",
    "\n",
    "comprob= np.corrcoef(x,y)[0][1]\n",
    "print (\"La correlación con la función np.corrcoef  es: \", comprob)"
   ]
  }
 ],
 "metadata": {
  "kernelspec": {
   "display_name": "Python 3",
   "language": "python",
   "name": "python3"
  },
  "language_info": {
   "codemirror_mode": {
    "name": "ipython",
    "version": 3
   },
   "file_extension": ".py",
   "mimetype": "text/x-python",
   "name": "python",
   "nbconvert_exporter": "python",
   "pygments_lexer": "ipython3",
   "version": "3.8.8"
  }
 },
 "nbformat": 4,
 "nbformat_minor": 5
}
